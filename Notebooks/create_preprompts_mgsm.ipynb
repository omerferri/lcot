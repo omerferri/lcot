{
 "cells": [
  {
   "cell_type": "markdown",
   "id": "93049a00-cc53-4c59-a365-47d884101c39",
   "metadata": {},
   "source": [
    "### Download datasets"
   ]
  },
  {
   "cell_type": "code",
   "execution_count": 2,
   "id": "436a1894-9bd4-4636-9d3b-29ff90c811f1",
   "metadata": {},
   "outputs": [
    {
     "name": "stderr",
     "output_type": "stream",
     "text": [
      "C:\\Users\\User\\miniconda3\\envs\\ds\\lib\\site-packages\\tqdm\\auto.py:21: TqdmWarning: IProgress not found. Please update jupyter and ipywidgets. See https://ipywidgets.readthedocs.io/en/stable/user_install.html\n",
      "  from .autonotebook import tqdm as notebook_tqdm\n"
     ]
    },
    {
     "data": {
      "text/plain": [
       "{'question': 'Question: There were nine computers in the server room. Five more computers were installed each day, from monday to thursday. How many computers are now in the server room?',\n",
       " 'answer': 'Step-by-Step Answer: There are 4 days from monday to thursday. 5 computers were added each day. That means in total 4 * 5 = 20 computers were added. There were 9 computers in the beginning, so now there are 9 + 20 = 29 computers. The answer is 29.',\n",
       " 'answer_number': 29,\n",
       " 'equation_solution': '4 * 5 = 20. 9 + 20 = 29.'}"
      ]
     },
     "execution_count": 2,
     "metadata": {},
     "output_type": "execute_result"
    }
   ],
   "source": [
    "from datasets import load_dataset\n",
    "LANGUAGES = ['en', 'es', 'fr', 'de', 'ru', 'zh', 'ja', 'th', 'sw', 'bn', 'te']\n",
    "symbol_to_language = {'en': 'English', 'fr': 'French','es':'Spanish','ru':'Russian','de':'German','ja':'Japanese','th':'Thai','sw':'Swahili','te':'Telugu','bn':'Bengali','zh':'Chinese'}\n",
    "mgsm_datasets = {lang: load_dataset('juletxara/mgsm', lang) for lang in LANGUAGES}\n",
    "mgsm_datasets['en']['train'][1]"
   ]
  },
  {
   "cell_type": "markdown",
   "id": "9c7954ac-28d7-49f1-9222-75aefce3cb36",
   "metadata": {},
   "source": [
    "### Language CoT - with step-by-step reasoning\n",
    "Here we:\n",
    "1. Translate the question to Enlish\n",
    "2. Use step-by-step CoT to answer the question\n",
    "3. conclude with final answer (in X={number} format)"
   ]
  },
  {
   "cell_type": "code",
   "execution_count": 9,
   "id": "874a47a0-e8f5-48be-a118-e7466925d9a5",
   "metadata": {},
   "outputs": [],
   "source": [
    "TARGET_LAN_SYM = 'en'\n",
    "\n",
    "N_EXAMPLES = 3 # 8 eight is the maximum\n",
    "for ORGINAL_LAN_SYM in LANGUAGES:\n",
    "    target_lan = symbol_to_language[TARGET_LAN_SYM]\n",
    "    oringinal_lan = symbol_to_language[ORGINAL_LAN_SYM]\n",
    "    prepromt_instructions = f\"Follow the given examples and answer the question. In your response, first translate the question from {oringinal_lan} to {target_lan}. Then, answer the question in {target_lan}, using step-by-step reasoning. The last sentence of the response must be in the format of - The answer is {{final answer}}. As examples:\\n\"\n",
    "    \n",
    "    prepomt_examples = [f\"For user's prompt -\\n{mgsm_datasets[ORGINAL_LAN_SYM]['train'][i]['question']}\\nassitant's repsonse should be -\\nTranslation to {target_lan}: {mgsm_datasets[TARGET_LAN_SYM]['train'][i]['question']}.\\n{mgsm_datasets[TARGET_LAN_SYM]['train'][i]['answer']}\\n\" for i in range(N_EXAMPLES)]\n",
    "    prepomt_examples = \"\".join(prepomt_examples)\n",
    "    \n",
    "    prepromt = prepromt_instructions + prepomt_examples\n",
    "    with open(f'C:\\\\Users\\\\User\\\\Desktop\\\\Dor\\\\Academy\\\\NLP\\\\Final_Project\\\\preprompts\\\\translate_with_cot\\\\{ORGINAL_LAN_SYM}.txt', 'w+',encoding='utf-8') as f:\n",
    "        f.write(prepromt)"
   ]
  },
  {
   "cell_type": "markdown",
   "id": "a2938056-fe14-4ab3-af4a-9cd5b2172855",
   "metadata": {},
   "source": [
    "### translate without chain of thoughts"
   ]
  },
  {
   "cell_type": "code",
   "execution_count": 8,
   "id": "31264034-bd22-43ba-a497-8a53062699d9",
   "metadata": {},
   "outputs": [],
   "source": [
    "TARGET_LAN_SYM = 'en'\n",
    "N_EXAMPLES = 3 # 8 eight is the maximum\n",
    "exp_name = 'translate_without_cot'\n",
    "\n",
    "for ORGINAL_LAN_SYM in LANGUAGES:\n",
    "    target_lan = symbol_to_language[TARGET_LAN_SYM]\n",
    "    oringinal_lan = symbol_to_language[ORGINAL_LAN_SYM]\n",
    "    prepromt_instructions = f\"Follow the given examples and answer the question. In your response, first translate the question from {oringinal_lan} to {target_lan}. Then, answer the question in a single line, without any step-by-step reasoning. As examples:\\n\"\n",
    "    \n",
    "    prepomt_examples = [f\"For user's prompt -\\n{mgsm_datasets[ORGINAL_LAN_SYM]['train'][i]['question']}\\nassitant's repsonse should be -\\nTranslation to {target_lan}: {mgsm_datasets[TARGET_LAN_SYM]['train'][i]['question']}.\\nThe answer is {mgsm_datasets[TARGET_LAN_SYM]['train'][i]['answer_number']}.\\n\" for i in range(N_EXAMPLES)]\n",
    "    prepomt_examples = \"\".join(prepomt_examples)\n",
    "    \n",
    "    prepromt = prepromt_instructions + prepomt_examples\n",
    "    with open(f'C:\\\\Users\\\\User\\\\Desktop\\\\Dor\\\\Academy\\\\NLP\\\\Final_Project\\\\preprompts\\\\{exp_name}\\\\{ORGINAL_LAN_SYM}.txt', 'w+',encoding='utf-8') as f:\n",
    "        f.write(prepromt)"
   ]
  },
  {
   "cell_type": "markdown",
   "id": "73add288-04e4-462a-8a34-64109433e38b",
   "metadata": {},
   "source": [
    "#### Regulat CoT"
   ]
  },
  {
   "cell_type": "code",
   "execution_count": 20,
   "id": "2a73e179-ef44-414e-808e-33b1725ba93b",
   "metadata": {},
   "outputs": [
    {
     "data": {
      "text/plain": [
       "['en', 'es', 'fr', 'de', 'ru', 'zh', 'ja', 'th', 'sw', 'bn', 'te']"
      ]
     },
     "execution_count": 20,
     "metadata": {},
     "output_type": "execute_result"
    }
   ],
   "source": [
    "LANGUAGES"
   ]
  },
  {
   "cell_type": "code",
   "execution_count": 19,
   "id": "fff906ad-7a62-4ec1-a785-5895146531b7",
   "metadata": {},
   "outputs": [],
   "source": [
    "\n",
    "exp_name = 'regular_cot'\n",
    "N_EXAMPLES = 3 # 8 eight is the maximum\n",
    "for lang in LANGUAGES:\n",
    "    prepromt_instructions = f\"Follow the given examples and answer the question. In your response use step-by-step reasoning. As examples:\\n\"\n",
    "    \n",
    "    prepomt_examples = [f\"For user's prompt -\\n{mgsm_datasets[lang]['train'][i]['question']}\\nassitant's repsonse should be -\\n{mgsm_datasets[lang]['train'][i]['answer']}\\n\" for i in range(N_EXAMPLES)]\n",
    "    prepomt_examples = \"\".join(prepomt_examples)\n",
    "    \n",
    "    prepromt = prepromt_instructions + prepomt_examples\n",
    "    with open(f'C:\\\\Users\\\\User\\\\Desktop\\\\Dor\\\\Academy\\\\NLP\\\\Final_Project\\\\preprompts\\\\{exp_name}\\\\{lang}.txt', 'w+',encoding='utf-8') as f:\n",
    "        f.write(prepromt)"
   ]
  },
  {
   "cell_type": "markdown",
   "id": "a5a63fd8-3c90-42da-8e9d-29974df8bfe8",
   "metadata": {},
   "source": [
    "### No Prepromt - Free answer"
   ]
  },
  {
   "cell_type": "code",
   "execution_count": 22,
   "id": "1d531e8c-79c3-4bd8-8d71-1b894f03d131",
   "metadata": {},
   "outputs": [],
   "source": [
    "exp_name = 'no_preprompt'\n",
    "N_EXAMPLES = 3 # 8 eight is the maximum\n",
    "for lang in LANGUAGES:    \n",
    "    prepromt = \"\"\n",
    "    with open(f'C:\\\\Users\\\\User\\\\Desktop\\\\Dor\\\\Academy\\\\NLP\\\\Final_Project\\\\preprompts\\\\{exp_name}\\\\{lang}.txt', 'w+',encoding='utf-8') as f:\n",
    "        f.write(prepromt)"
   ]
  },
  {
   "cell_type": "markdown",
   "id": "c1cdd6c7-eab1-4930-9468-6fe898bb21d0",
   "metadata": {},
   "source": [
    "### Cot in English (without translation)"
   ]
  },
  {
   "cell_type": "code",
   "execution_count": 3,
   "id": "78dda25c-e5be-4452-81af-963ef0819fb9",
   "metadata": {},
   "outputs": [],
   "source": [
    "TARGET_LAN_SYM = 'en'\n",
    "exp_name = 'cot_in_english'\n",
    "\n",
    "N_EXAMPLES = 3 # 8 eight is the maximum\n",
    "for ORGINAL_LAN_SYM in LANGUAGES:\n",
    "    target_lan = symbol_to_language[TARGET_LAN_SYM]\n",
    "    oringinal_lan = symbol_to_language[ORGINAL_LAN_SYM]\n",
    "    prepromt_instructions = f\"Follow the given examples and answer the question. In your response, use step-by-step reasoning in {TARGET_LAN_SYM}. The last sentence of the response must be in the format of - The answer is {{final answer}}. As examples:\\n\"\n",
    "    \n",
    "    prepomt_examples = [f\"For user's prompt -\\n{mgsm_datasets[ORGINAL_LAN_SYM]['train'][i]['question']}\\nassitant's repsonse should be - \\n{mgsm_datasets[TARGET_LAN_SYM]['train'][i]['answer']}\\n\" for i in range(N_EXAMPLES)]\n",
    "    prepomt_examples = \"\".join(prepomt_examples)\n",
    "    \n",
    "    prepromt = prepromt_instructions + prepomt_examples\n",
    "    with open(f'preprompts\\\\{exp_name}\\\\{ORGINAL_LAN_SYM}.txt', 'w+',encoding='utf-8') as f:\n",
    "        f.write(prepromt)"
   ]
  },
  {
   "cell_type": "markdown",
   "id": "f114a02d-af92-476f-aef6-9f38efc45d17",
   "metadata": {},
   "source": [
    "### Hidden chain of thoughts"
   ]
  },
  {
   "cell_type": "code",
   "execution_count": 26,
   "id": "d7fdbb5d-cd41-49fd-897a-e00ef7ba2f0a",
   "metadata": {},
   "outputs": [],
   "source": [
    "TARGET_LAN_SYM = 'en'\n",
    "N_EXAMPLES_TRANSLATION = 3 # 8 eight is the maximum\n",
    "N_EXAMPLES_ASSITANT = 3\n",
    "exp_name = 'hidden_cot'\n",
    "\n",
    "for ORGINAL_LAN_SYM in LANGUAGES:\n",
    "    target_lan = symbol_to_language[TARGET_LAN_SYM]\n",
    "    oringinal_lan = symbol_to_language[ORGINAL_LAN_SYM]\n",
    "    prepromt_instructions = f\"Follow the given examples and answer the question.\\nAny question in {oringinal_lan} can be translated into {target_lan}. Then, the translated question in {target_lan} can be answered in {target_lan}. As examples:\\n\"\n",
    "    translation_examples = [f\"The question - {mgsm_datasets[ORGINAL_LAN_SYM]['train'][i]['question']}\\ncan be translated to {target_lan}. The translation is: {mgsm_datasets[TARGET_LAN_SYM]['train'][i]['question']}.\\nThen, the answer for the translated question is - {mgsm_datasets[TARGET_LAN_SYM]['train'][i]['answer']}\\n\" for i in range(N_EXAMPLES_TRANSLATION)]\n",
    "    translation_examples = \"\".join(translation_examples)\n",
    "    prepromt_instructions += translation_examples\n",
    "    prepromt_instructions += f\"\\nYour task is to predict the answer to the translated question in {target_lan}. You should not include the translation of the question itself in your response. Your response must be written only in {target_lan}. As examples:\\n\"\n",
    "    prepomt_examples = [f\"For user's prompt -\\n{mgsm_datasets[ORGINAL_LAN_SYM]['train'][i]['question']}\\nassitant's repsonse should be and answer of the question, without repeating the question itself in {target_lan} - {mgsm_datasets[TARGET_LAN_SYM]['train'][i]['answer']}\\n\" for i in range(N_EXAMPLES_ASSITANT)]\n",
    "    prepomt_examples = \"\".join(prepomt_examples)\n",
    "    prepromt_instructions += prepomt_examples\n",
    "    \n",
    "    with open(f'preprompts\\\\{exp_name}\\\\{ORGINAL_LAN_SYM}.txt', 'w+',encoding='utf-8') as f:\n",
    "        f.write(prepromt_instructions)"
   ]
  },
  {
   "cell_type": "markdown",
   "id": "95471000-7482-493b-a785-43b2b6d11a98",
   "metadata": {},
   "source": [
    "### Hidden chain of thoughts - V2\n",
    "Here the wanted answer is the short final answer"
   ]
  },
  {
   "cell_type": "code",
   "execution_count": 33,
   "id": "67c0e69b-2b8e-4bba-b91a-c44598acfac8",
   "metadata": {},
   "outputs": [],
   "source": [
    "TARGET_LAN_SYM = 'en'\n",
    "N_EXAMPLES_TRANSLATION = 3 # 8 eight is the maximum\n",
    "N_EXAMPLES_ASSITANT = 3\n",
    "exp_name = 'hidden_cot_2'\n",
    "\n",
    "for ORGINAL_LAN_SYM in LANGUAGES:\n",
    "    target_lan = symbol_to_language[TARGET_LAN_SYM]\n",
    "    oringinal_lan = symbol_to_language[ORGINAL_LAN_SYM]\n",
    "    prepromt_instructions = f\"Follow the given examples and answer the question.\\nAny question in {oringinal_lan} can be translated into {target_lan}, and then to be answered. As examples:\\n\"\n",
    "    translation_examples = [f\"The {mgsm_datasets[ORGINAL_LAN_SYM]['train'][i]['question']}\\ncan be translated to {target_lan}: {mgsm_datasets[TARGET_LAN_SYM]['train'][i]['question']}.\\nThen, the answer to the translated question is - {mgsm_datasets[TARGET_LAN_SYM]['train'][i]['answer_number']}\\n\" for i in range(N_EXAMPLES_TRANSLATION)]\n",
    "    translation_examples = \"\".join(translation_examples)\n",
    "    prepromt_instructions += translation_examples\n",
    "    prepromt_instructions += f\"\\nYour task is to calculate the answer to the translated to {target_lan} question. Your response should be in the format of - The answer is {{number answer}}. It should not include the translation of the question. It must not include any text beside the final number answer. As examples:\\n\"\n",
    "    prepomt_examples = [f\"For user's prompt -\\n{mgsm_datasets[ORGINAL_LAN_SYM]['train'][i]['question']}\\nAssitant's repsonse should be - The answer is {mgsm_datasets[TARGET_LAN_SYM]['train'][i]['answer_number']}\\n\" for i in range(N_EXAMPLES_ASSITANT)]\n",
    "    prepomt_examples = \"\".join(prepomt_examples)\n",
    "    prepromt_instructions += prepomt_examples\n",
    "    \n",
    "    with open(f'preprompts\\\\{exp_name}\\\\{ORGINAL_LAN_SYM}.txt', 'w+',encoding='utf-8') as f:\n",
    "        f.write(prepromt_instructions)"
   ]
  },
  {
   "cell_type": "markdown",
   "id": "81114ef2-7034-474b-a8b8-41bb903657cf",
   "metadata": {},
   "source": [
    "## Two Language input - CoT in English"
   ]
  },
  {
   "cell_type": "code",
   "execution_count": 13,
   "id": "40bf8774-d3d5-4203-9536-7036cdfdc3d7",
   "metadata": {},
   "outputs": [],
   "source": [
    "TARGET_LAN_SYM = 'en'\n",
    "N_EXAMPLES = 3 # 8 eight is the maximum\n",
    "exp_name = 'two_language_input_cot_in_english'\n",
    "\n",
    "for ORGINAL_LAN_SYM in LANGUAGES:\n",
    "    target_lan = symbol_to_language[TARGET_LAN_SYM]\n",
    "    oringinal_lan = symbol_to_language[ORGINAL_LAN_SYM]\n",
    "    prepromt_instructions = f\"Follow the given examples and answer the question. You are given the same question in two languages - {target_lan} and {oringinal_lan}. In your response, you need to answer only in {target_lan}. In your response use step-by-step reasoning, as examples:\\n\"\n",
    "    \n",
    "    prepomt_examples = [f\"For user's prompt -\\n{oringinal_lan} - {mgsm_datasets[ORGINAL_LAN_SYM]['train'][i]['question']}\\n{target_lan} - {mgsm_datasets[TARGET_LAN_SYM]['train'][i]['question']}\\nAssitant's repsonse should be -\\n{target_lan} {mgsm_datasets[TARGET_LAN_SYM]['train'][i]['answer']}\\n\" for i in range(N_EXAMPLES)]\n",
    "    prepomt_examples = \"\".join(prepomt_examples)\n",
    "    \n",
    "    prepromt = prepromt_instructions + prepomt_examples\n",
    "    with open(f'C:\\\\Users\\\\User\\\\Desktop\\\\Dor\\\\Academy\\\\NLP\\\\Final_Project\\\\preprompts\\\\{exp_name}\\\\{ORGINAL_LAN_SYM}.txt', 'w+',encoding='utf-8') as f:\n",
    "        f.write(prepromt)"
   ]
  },
  {
   "cell_type": "markdown",
   "id": "f68a5ea2-9d29-4117-b8ca-36c1fbe84a13",
   "metadata": {},
   "source": [
    "## Two Language input - CoT in original language"
   ]
  },
  {
   "cell_type": "code",
   "execution_count": 15,
   "id": "d008f876-c017-4c9f-92cd-86a499c078bd",
   "metadata": {},
   "outputs": [],
   "source": [
    "TARGET_LAN_SYM = 'en'\n",
    "N_EXAMPLES = 3 # 8 eight is the maximum\n",
    "exp_name = 'two_language_input_cot_in_original_language'\n",
    "\n",
    "for ORGINAL_LAN_SYM in LANGUAGES:\n",
    "    target_lan = symbol_to_language[TARGET_LAN_SYM]\n",
    "    oringinal_lan = symbol_to_language[ORGINAL_LAN_SYM]\n",
    "    prepromt_instructions = f\"Follow the given examples and answer the question. You are given the same question in two languages - {target_lan} and {oringinal_lan}. In your response, you need to answer only in {oringinal_lan}. In your response use step-by-step reasoning, as examples:\\n\"\n",
    "    \n",
    "    prepomt_examples = [f\"For user's prompt -\\n{oringinal_lan} - {mgsm_datasets[ORGINAL_LAN_SYM]['train'][i]['question']}\\n{target_lan} - {mgsm_datasets[TARGET_LAN_SYM]['train'][i]['question']}\\nAssitant's repsonse should be -\\n{oringinal_lan} {mgsm_datasets[ORGINAL_LAN_SYM]['train'][i]['answer']}\\n\" for i in range(N_EXAMPLES)]\n",
    "    prepomt_examples = \"\".join(prepomt_examples)\n",
    "    \n",
    "    prepromt = prepromt_instructions + prepomt_examples\n",
    "    with open(f'C:\\\\Users\\\\User\\\\Desktop\\\\Dor\\\\Academy\\\\NLP\\\\Final_Project\\\\preprompts\\\\{exp_name}\\\\{ORGINAL_LAN_SYM}.txt', 'w+',encoding='utf-8') as f:\n",
    "        f.write(prepromt)"
   ]
  },
  {
   "cell_type": "markdown",
   "id": "1b280f1b-7a46-4f77-acab-dc6dd07fdd15",
   "metadata": {},
   "source": [
    "## English question input - CoT in original language"
   ]
  },
  {
   "cell_type": "code",
   "execution_count": 18,
   "id": "a119a7e6-934b-4ac3-9c7a-168675a08f09",
   "metadata": {},
   "outputs": [],
   "source": [
    "TARGET_LAN_SYM = 'en'\n",
    "N_EXAMPLES = 3 # 8 eight is the maximum\n",
    "exp_name = 'english_input_cot_in_original_language'\n",
    "\n",
    "for ORGINAL_LAN_SYM in LANGUAGES:\n",
    "    target_lan = symbol_to_language[TARGET_LAN_SYM]\n",
    "    oringinal_lan = symbol_to_language[ORGINAL_LAN_SYM]\n",
    "    prepromt_instructions = f\"Follow the given examples and answer the question. You are given a question in {target_lan}. In your response, you need to answer only in {oringinal_lan}. In your response use step-by-step reasoning, as examples:\\n\"\n",
    "    \n",
    "    prepomt_examples = [f\"For user's prompt -\\n{mgsm_datasets[TARGET_LAN_SYM]['train'][i]['question']}\\nAssitant's repsonse should be -\\n{mgsm_datasets[ORGINAL_LAN_SYM]['train'][i]['answer']}\\n\" for i in range(N_EXAMPLES)]\n",
    "    prepomt_examples = \"\".join(prepomt_examples)\n",
    "    \n",
    "    prepromt = prepromt_instructions + prepomt_examples\n",
    "    with open(f'C:\\\\Users\\\\User\\\\Desktop\\\\Dor\\\\Academy\\\\NLP\\\\Final_Project\\\\preprompts\\\\{exp_name}\\\\{ORGINAL_LAN_SYM}.txt', 'w+',encoding='utf-8') as f:\n",
    "        f.write(prepromt)"
   ]
  },
  {
   "cell_type": "code",
   "execution_count": 17,
   "id": "6fc368d1-77bd-4fb9-a01b-fa4f0d39602c",
   "metadata": {},
   "outputs": [
    {
     "data": {
      "text/plain": [
       "\"Follow the given examples and answer the question. You are given a question in English. In your response, you need to answer only in Telugu. In your response use step-by-step reasoning, as examples:\\nFor user's prompt -\\nQuestion: Roger has 5 tennis balls. He buys 2 more cans of tennis balls. Each can has 3 tennis balls. How many tennis balls does he have now?\\nAssitant's repsonse should be -\\n దశలవారీగా సమాధానం: రోజర్ 5 బంతులతో ప్రారంభించాడు. 2 క్యాన్\\u200cల్లో ఒక్కదానిలో 3 టెన్నిస్ బంతులు అంటే 6 టెన్నిస్ బంతులు ఉన్నాయి. 5+6=11. సమాధానం 11.\\nFor user's prompt -\\nQuestion: There were nine computers in the server room. Five more computers were installed each day, from monday to thursday. How many computers are now in the server room?\\nAssitant's repsonse should be -\\n దశలవారీగా సమాధానం: సోమవారం నుంచి గురువారం వరకు 4 రోజులున్నాయి. ప్రతిరోజూ 5 కంప్యూటర్\\u200cలు జోడించబడ్డాయి. అంటే మొత్తం 4*5=20 కంప్యూటర్\\u200cలు జోడించబడ్డాయి. ప్రారంభంలో 9 కంప్యూటర్\\u200cలు ఉన్నాయి, అందువల్ల ఇప్పుడు అవి 9+20=29 కంప్యూటర్\\u200cలు సమాధానం 29.\\nFor user's prompt -\\nQuestion: Leah had 32 chocolates and her sister had 42. If they ate 35, how many pieces do they have left in total?\\nAssitant's repsonse should be -\\n దశలవారీగా సమాధానం: లియా వద్ద 32 చాక్లెట్\\u200cలు ఉన్నాయి, లియా సోదరి వద్ద 42 చాక్లెట్\\u200cలు ఉన్నాయి. అంటే వారి వద్ద వాస్తవంగా 32+42= 74 చాక్లెట్\\u200cలు ఉన్నాయి. 35 చాక్లెట్\\u200cలను తిన్నారు. అందువల్ల వారి వద్ద మొత్తం 74-35= 39 చాక్లెట్\\u200cలు ఉన్నాయి. సమాధానం 39.చాక్లెట్\\u200cలుచాక్లెట్\\u200cలుచాక్లెట్\\u200cలు\\n\""
      ]
     },
     "execution_count": 17,
     "metadata": {},
     "output_type": "execute_result"
    }
   ],
   "source": [
    "prepromt"
   ]
  },
  {
   "cell_type": "code",
   "execution_count": null,
   "id": "0d33aad3-9e04-47fd-a825-41db6081a4a4",
   "metadata": {},
   "outputs": [],
   "source": []
  }
 ],
 "metadata": {
  "kernelspec": {
   "display_name": "Python 3 (ipykernel)",
   "language": "python",
   "name": "python3"
  },
  "language_info": {
   "codemirror_mode": {
    "name": "ipython",
    "version": 3
   },
   "file_extension": ".py",
   "mimetype": "text/x-python",
   "name": "python",
   "nbconvert_exporter": "python",
   "pygments_lexer": "ipython3",
   "version": "3.9.7"
  }
 },
 "nbformat": 4,
 "nbformat_minor": 5
}
