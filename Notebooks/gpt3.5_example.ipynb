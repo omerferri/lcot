{
 "cells": [
  {
   "cell_type": "markdown",
   "id": "9ff7c86c-863e-46ba-b968-7dc175b784c6",
   "metadata": {},
   "source": [
    "# OpenAI models"
   ]
  },
  {
   "cell_type": "code",
   "execution_count": 4,
   "id": "af66962e-4818-460e-808e-4fde10268bcc",
   "metadata": {},
   "outputs": [],
   "source": [
    "OPENAI_API_KEY = 0 # DELETED #"
   ]
  },
  {
   "cell_type": "markdown",
   "id": "fbd429c1-0965-4ebb-acdf-5fd281477010",
   "metadata": {},
   "source": [
    "### ChatGPT (gpt3.5)\n",
    "you can add 'system' and 'assitant' messages before your message. we might want to try it"
   ]
  },
  {
   "cell_type": "code",
   "execution_count": 21,
   "id": "6c43bf1a-6ef0-491a-8f07-55c28ba70b4c",
   "metadata": {},
   "outputs": [],
   "source": [
    "import os\n",
    "import openai\n",
    "\n",
    "openai.api_key = OPENAI_API_KEY\n",
    "\n",
    "response = openai.ChatCompletion.create(\n",
    "  model=\"gpt-3.5-turbo\",\n",
    "  messages=[\n",
    "    {\"role\": \"system\", \"content\": \"You are a helpful assistant.\"},\n",
    "    {\"role\": \"user\", \"content\": \"Who won the world series in 2020?\"},\n",
    "    {\"role\": \"assistant\", \"content\": \"The Los Angeles Dodgers won the World Series in 2020.\"},\n",
    "    {\"role\": \"user\", \"content\": \"Where was it played?\"}\n",
    "],\n",
    "  temperature=0,\n",
    "  max_tokens=256\n",
    ")"
   ]
  },
  {
   "cell_type": "markdown",
   "id": "3dbd4825-e886-4f3c-9a36-60c201647d02",
   "metadata": {},
   "source": [
    "#### response format"
   ]
  },
  {
   "cell_type": "code",
   "execution_count": 22,
   "id": "6447f120-50d1-4b14-848d-a174808d7f81",
   "metadata": {},
   "outputs": [
    {
     "name": "stdout",
     "output_type": "stream",
     "text": [
      "The 2020 World Series was played at Globe Life Field in Arlington, Texas.\n",
      "----\n",
      "{\n",
      "  \"id\": \"chatcmpl-83kDhz5oSRwqSTiA8UIhMVqskpiQZ\",\n",
      "  \"object\": \"chat.completion\",\n",
      "  \"created\": 1695903345,\n",
      "  \"model\": \"gpt-3.5-turbo-0613\",\n",
      "  \"choices\": [\n",
      "    {\n",
      "      \"index\": 0,\n",
      "      \"message\": {\n",
      "        \"role\": \"assistant\",\n",
      "        \"content\": \"The 2020 World Series was played at Globe Life Field in Arlington, Texas.\"\n",
      "      },\n",
      "      \"finish_reason\": \"stop\"\n",
      "    }\n",
      "  ],\n",
      "  \"usage\": {\n",
      "    \"prompt_tokens\": 53,\n",
      "    \"completion_tokens\": 17,\n",
      "    \"total_tokens\": 70\n",
      "  }\n",
      "}\n"
     ]
    }
   ],
   "source": [
    "print(response['choices'][0]['message']['content'])\n",
    "print(\"----\")\n",
    "print(response)"
   ]
  },
  {
   "cell_type": "markdown",
   "id": "d54922f6-af75-4143-aea7-4d7415a9a446",
   "metadata": {},
   "source": [
    "### GPT3"
   ]
  },
  {
   "cell_type": "code",
   "execution_count": 25,
   "id": "021a9c6a-71c8-4c19-9678-ae05f846b729",
   "metadata": {},
   "outputs": [],
   "source": [
    "response = openai.Completion.create(\n",
    "  model=\"text-davinci-002\",\n",
    "  prompt=\"Write a tagline for an ice cream shop.\",\n",
    "  temperature=0,\n",
    "  max_tokens=256\n",
    ")"
   ]
  },
  {
   "cell_type": "code",
   "execution_count": 31,
   "id": "eb0dfbce-81fd-4c64-be43-b6a82973c3f4",
   "metadata": {},
   "outputs": [
    {
     "name": "stdout",
     "output_type": "stream",
     "text": [
      "\n",
      "\n",
      "The best ice cream in town!\n"
     ]
    }
   ],
   "source": [
    "print(response['choices'][0]['text'])"
   ]
  }
 ],
 "metadata": {
  "kernelspec": {
   "display_name": "Python 3 (ipykernel)",
   "language": "python",
   "name": "python3"
  },
  "language_info": {
   "codemirror_mode": {
    "name": "ipython",
    "version": 3
   },
   "file_extension": ".py",
   "mimetype": "text/x-python",
   "name": "python",
   "nbconvert_exporter": "python",
   "pygments_lexer": "ipython3",
   "version": "3.9.7"
  }
 },
 "nbformat": 4,
 "nbformat_minor": 5
}
