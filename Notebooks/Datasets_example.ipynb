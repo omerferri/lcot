{
 "cells": [
  {
   "cell_type": "markdown",
   "id": "2b3f7b9a-a335-49bf-9709-cd11d7a3d885",
   "metadata": {},
   "source": [
    "## Arranging Datasets"
   ]
  },
  {
   "cell_type": "markdown",
   "id": "5969a5ea-1e87-4707-8ac2-6583aeefb536",
   "metadata": {},
   "source": [
    "### Download the data"
   ]
  },
  {
   "cell_type": "code",
   "execution_count": 1,
   "id": "d30e0dae-a884-48a1-abff-5e486bf2e567",
   "metadata": {},
   "outputs": [
    {
     "name": "stderr",
     "output_type": "stream",
     "text": [
      "C:\\Users\\User\\miniconda3\\envs\\ds\\lib\\site-packages\\tqdm\\auto.py:21: TqdmWarning: IProgress not found. Please update jupyter and ipywidgets. See https://ipywidgets.readthedocs.io/en/stable/user_install.html\n",
      "  from .autonotebook import tqdm as notebook_tqdm\n"
     ]
    }
   ],
   "source": [
    "from datasets import load_dataset\n",
    "\n",
    "xcopa_dataset_et = load_dataset('xcopa', 'et')\n",
    "mgsm_dataset_en = load_dataset('juletxara/mgsm','en')\n",
    "xlwic_dataset_it_it = load_dataset('pasinit/xlwic', 'xlwic_it_it') # unexpected error for some of the languages (e.g. _en_bg)"
   ]
  },
  {
   "cell_type": "code",
   "execution_count": 6,
   "id": "8145403d-8ea6-4251-ba3a-3e3befe69a50",
   "metadata": {},
   "outputs": [
    {
     "name": "stderr",
     "output_type": "stream",
     "text": [
      "Downloading data files:   0%|                                                                    | 0/2 [00:00<?, ?it/s]\n",
      "Downloading data:   0%|                                                                    | 0.00/69.1k [00:00<?, ?B/s]\u001b[A\n",
      "Downloading data: 100%|███████████████████████████████████████████████████████████| 69.1k/69.1k [00:04<00:00, 16.6kB/s]\u001b[A\n",
      "Downloading data files: 100%|████████████████████████████████████████████████████████████| 2/2 [00:09<00:00,  4.99s/it]\n",
      "Extracting data files: 100%|█████████████████████████████████████████████████████████████| 2/2 [00:00<00:00, 54.73it/s]\n",
      "Generating train split: 8 examples [00:00, 255.97 examples/s]\n",
      "Generating test split: 250 examples [00:00, 6234.58 examples/s]\n"
     ]
    }
   ],
   "source": [
    "mgsm_dataset_fr = load_dataset('juletxara/mgsm','fr')"
   ]
  },
  {
   "cell_type": "markdown",
   "id": "e8301690-e986-483a-84b9-c1a7d426e0ce",
   "metadata": {},
   "source": [
    "### Datasets Exapmles"
   ]
  },
  {
   "cell_type": "code",
   "execution_count": 2,
   "id": "b37560bc-dddc-4a53-93a0-fc8ffc7835cb",
   "metadata": {},
   "outputs": [
    {
     "data": {
      "text/plain": [
       "{'premise': 'Mees keeras kraani lahti.',\n",
       " 'choice1': 'Tualett täitus veega.',\n",
       " 'choice2': 'Tilast voolas vett.',\n",
       " 'question': 'effect',\n",
       " 'label': 1,\n",
       " 'idx': 0,\n",
       " 'changed': False}"
      ]
     },
     "execution_count": 2,
     "metadata": {},
     "output_type": "execute_result"
    }
   ],
   "source": [
    "xcopa_dataset_et['validation'][0]"
   ]
  },
  {
   "cell_type": "code",
   "execution_count": 8,
   "id": "1b3bda0a-2934-49ad-8d12-83ab9188c696",
   "metadata": {},
   "outputs": [
    {
     "data": {
      "text/plain": [
       "{'question': 'Question : Roger a 5 balles de tennis. Il achète 2 autres boîtes de balles de tennis en plus. Si chaque boîte contient 3 balles de tennis, combien de balles de tennis a-t-il maintenant ?',\n",
       " 'answer': 'Réponse étape par étape : Roger a commencé avec 5 balles. 2 boîtes de 3 balles de tennis chacune représentent 6 balles de tennis. 5 + 6 = 11. La réponse est 11.',\n",
       " 'answer_number': 11,\n",
       " 'equation_solution': '5 + 6 = 11.'}"
      ]
     },
     "execution_count": 8,
     "metadata": {},
     "output_type": "execute_result"
    }
   ],
   "source": [
    "mgsm_dataset_fr['train'][0]"
   ]
  },
  {
   "cell_type": "code",
   "execution_count": 3,
   "id": "e5bbcbe8-2677-4c93-8a52-c9e27a2fb1e9",
   "metadata": {},
   "outputs": [
    {
     "data": {
      "text/plain": [
       "{'question': 'Question: Roger has 5 tennis balls. He buys 2 more cans of tennis balls. Each can has 3 tennis balls. How many tennis balls does he have now?',\n",
       " 'answer': 'Step-by-Step Answer: Roger started with 5 balls. 2 cans of 3 tennis balls each is 6 tennis balls. 5 + 6 = 11. The answer is 11.',\n",
       " 'answer_number': 11,\n",
       " 'equation_solution': '5 + 6 = 11.'}"
      ]
     },
     "execution_count": 3,
     "metadata": {},
     "output_type": "execute_result"
    }
   ],
   "source": [
    "mgsm_dataset_en['train'][0]"
   ]
  },
  {
   "cell_type": "code",
   "execution_count": 16,
   "id": "b31b2ca5-4c95-4168-8d95-b557a92e413e",
   "metadata": {},
   "outputs": [
    {
     "data": {
      "text/plain": [
       "{'id': 'IT_0',\n",
       " 'context_1': 'Improvvisamente il padre di famiglia: \"Tesoro, andiamo al centro commerciale con i bambini oppure al cinema?\".',\n",
       " 'context_2': \"C'ֳ¨ un progetto per Milano, a Segrate, per un centro commerciale Westfield con trecento negozi, cinquanta boutique esclusive, cinquanta ristoranti di lusso e tanto altro ancora.\",\n",
       " 'target_word': 'centro commerciale',\n",
       " 'pos': 'N',\n",
       " 'target_word_location_1': {'char_start': 58, 'char_end': 76},\n",
       " 'target_word_location_2': {'char_start': 46, 'char_end': 64},\n",
       " 'language': 'IT',\n",
       " 'label': 1}"
      ]
     },
     "execution_count": 16,
     "metadata": {},
     "output_type": "execute_result"
    }
   ],
   "source": [
    "xlwic_dataset_it_it['train'][0]"
   ]
  }
 ],
 "metadata": {
  "kernelspec": {
   "display_name": "Python 3 (ipykernel)",
   "language": "python",
   "name": "python3"
  },
  "language_info": {
   "codemirror_mode": {
    "name": "ipython",
    "version": 3
   },
   "file_extension": ".py",
   "mimetype": "text/x-python",
   "name": "python",
   "nbconvert_exporter": "python",
   "pygments_lexer": "ipython3",
   "version": "3.9.7"
  }
 },
 "nbformat": 4,
 "nbformat_minor": 5
}
